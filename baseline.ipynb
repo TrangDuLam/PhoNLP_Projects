{
 "cells": [
  {
   "cell_type": "markdown",
   "metadata": {},
   "source": [
    "## Import the phonlp package first\n",
    "    website: https://github.com/VinAIResearch/PhoNLP\n"
   ]
  },
  {
   "cell_type": "code",
   "execution_count": 1,
   "metadata": {},
   "outputs": [],
   "source": [
    "import phonlp"
   ]
  },
  {
   "cell_type": "markdown",
   "metadata": {},
   "source": [
    "## Model downloading\n",
    "\n",
    "In this stage, we will download the pre-tain model from the net. The file name is called \"phonlp.pt\""
   ]
  },
  {
   "cell_type": "code",
   "execution_count": 9,
   "metadata": {},
   "outputs": [
    {
     "name": "stderr",
     "output_type": "stream",
     "text": [
      "Downloading...\n",
      "From: https://public.vinai.io/phonlp.pt\n",
      "To: /Users/andychuang/codes/VinAI/phonlp.pt\n",
      "100%|██████████| 582M/582M [02:32<00:00, 3.82MB/s]\n"
     ]
    }
   ],
   "source": [
    "phonlp.download('./')\n",
    "\n",
    "# the './' means 'under current directory'  "
   ]
  },
  {
   "cell_type": "markdown",
   "metadata": {},
   "source": [
    "## Model loading\n",
    "Once the model is successfully downloaded to our current file, we could just directly load to our project file."
   ]
  },
  {
   "cell_type": "code",
   "execution_count": 10,
   "metadata": {},
   "outputs": [
    {
     "name": "stdout",
     "output_type": "stream",
     "text": [
      "Loading model from: ./phonlp.pt\n"
     ]
    },
    {
     "name": "stderr",
     "output_type": "stream",
     "text": [
      "Special tokens have been added in the vocabulary, make sure the associated word embeddings are fine-tuned or trained.\n"
     ]
    }
   ],
   "source": [
    "model = phonlp.load(\"./\")"
   ]
  },
  {
   "cell_type": "markdown",
   "metadata": {},
   "source": [
    "## Text Annotation\n",
    "\n",
    "In this stage, we could assign the string to do the annotation upon the model loaded."
   ]
  },
  {
   "cell_type": "code",
   "execution_count": 11,
   "metadata": {},
   "outputs": [],
   "source": [
    "text = \"bầu_trời hôm_nay thật trong_xanh , bát_ngát và nhiều chim\""
   ]
  },
  {
   "cell_type": "code",
   "execution_count": 12,
   "metadata": {},
   "outputs": [
    {
     "name": "stderr",
     "output_type": "stream",
     "text": [
      "100%|██████████| 1/1 [00:00<00:00,  4.27it/s]"
     ]
    },
    {
     "name": "stdout",
     "output_type": "stream",
     "text": [
      "1\tbầu_trời\tN\tO\t4\tsub\n",
      "2\thôm_nay\tN\tO\t1\tnmod\n",
      "3\tthật\tT\tO\t4\tamod\n",
      "4\ttrong_xanh\tA\tO\t0\troot\n",
      "5\t,\tCH\tO\t4\tpunct\n",
      "6\tbát_ngát\tA\tO\t4\tamod\n",
      "7\tvà\tCc\tO\t4\tcoord\n",
      "8\tnhiều\tA\tO\t4\tdep\n",
      "9\tchim\tN\tO\t8\tamod\n"
     ]
    },
    {
     "name": "stderr",
     "output_type": "stream",
     "text": [
      "\n"
     ]
    }
   ],
   "source": [
    "out = model.annotate(text)\n",
    "model.print_out(out)"
   ]
  },
  {
   "cell_type": "code",
   "execution_count": null,
   "metadata": {},
   "outputs": [],
   "source": []
  },
  {
   "cell_type": "code",
   "execution_count": 14,
   "metadata": {},
   "outputs": [
    {
     "name": "stdout",
     "output_type": "stream",
     "text": [
      "The number of sentences:  100\n"
     ]
    },
    {
     "name": "stderr",
     "output_type": "stream",
     "text": [
      "100%|██████████| 100/100 [00:19<00:00,  5.09it/s]\n"
     ]
    }
   ],
   "source": [
    "model.annotate(input_file='./input.txt', output_file='./output.txt')"
   ]
  },
  {
   "cell_type": "code",
   "execution_count": null,
   "metadata": {},
   "outputs": [],
   "source": []
  }
 ],
 "metadata": {
  "interpreter": {
   "hash": "57d879c1bab31ddce3f98747a90aac1ecdf0d747d4f9b6f921c92f41b19b21c9"
  },
  "kernelspec": {
   "display_name": "Python 3.8.12 64-bit ('pytorch_env': conda)",
   "language": "python",
   "name": "python3"
  },
  "language_info": {
   "codemirror_mode": {
    "name": "ipython",
    "version": 3
   },
   "file_extension": ".py",
   "mimetype": "text/x-python",
   "name": "python",
   "nbconvert_exporter": "python",
   "pygments_lexer": "ipython3",
   "version": "3.8.12"
  },
  "orig_nbformat": 4
 },
 "nbformat": 4,
 "nbformat_minor": 2
}
